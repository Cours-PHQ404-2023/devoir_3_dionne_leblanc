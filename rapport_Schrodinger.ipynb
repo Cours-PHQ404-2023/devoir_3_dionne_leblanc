{
 "cells": [
  {
   "attachments": {},
   "cell_type": "markdown",
   "metadata": {},
   "source": [
    "<h1 align=\"center\">Devoir #3</h1>\n",
    "<h4 align=\"center\">Théo Dionne et Jérôme Leblanc</h4>\n",
    "<h5 align=\"center\">F I I I I L L L L    O U T T T</h5>"
   ]
  },
  {
   "cell_type": "code",
   "execution_count": null,
   "metadata": {},
   "outputs": [],
   "source": [
    "import numpy as np\n",
    "from scipy.optimize import brentq\n",
    "from scipy.integrate import odeint\n",
    "\n",
    "import matplotlib.pyplot as plt"
   ]
  },
  {
   "attachments": {},
   "cell_type": "markdown",
   "metadata": {},
   "source": [
    "# Méthode du tir\n",
    "\n",
    "D'abord, on cherche à résoudre l'équation de Schrödinger avec la méthode du tir. Le hamiltonien est de la forme d'un oscillateur harmonique, soit:\n",
    "$$\n",
    "    {\\psi}'' = (x^2-2E)\\psi\n",
    "$$\n",
    "Comme à l'habitude, pour résoudre cette équation du second ordre, on s'intéresse à un système *réduit* avec le changement de variables typique $\\xi \\equiv \\psi'$:\n",
    "$$\n",
    "    \\begin{bmatrix}{\\psi}'\\\\{\\xi}'\\end{bmatrix} = \\begin{bmatrix}\\xi\\\\(x^2-2E)\\psi\\end{bmatrix}\n",
    "$$\n",
    "Maintenant, on fixe $\\psi(-L)=0$ et ${\\psi}'(-L) = 0.001$ pour ensuite trouver les valeurs de $E$ tel que $\\psi(L|E)=0$ "
   ]
  },
  {
   "cell_type": "code",
   "execution_count": null,
   "metadata": {},
   "outputs": [],
   "source": [
    "def Schrodinger_RHS(vec, x, E):\n",
    "    \"\"\" Calcule le membre droit de l'équation de Schrodinger en fonction\n",
    "    du vecteur d'état et de la position.\n",
    "\n",
    "    Arguments\n",
    "    ---------\n",
    "    vec : list[float]\n",
    "        Le vecteur contenant la fonction d'état et sa dérivée spatiale.\n",
    "    x : float\n",
    "        La position spatiale.\n",
    "    E : float\n",
    "        L'énergie de la particule.\n",
    "\n",
    "    Retour\n",
    "    ------\n",
    "    Le membre droit de l'équation de Schrödinger\n",
    "    \"\"\"\n",
    "\n",
    "    return [vec[1], (x*x - 2*E)*vec[0]]\n",
    "\n",
    "\n",
    "def calcul_Schrodinger(vec_0, x_range, E):\n",
    "    \"\"\"\n",
    "    \n",
    "    \"\"\"\n",
    "\n",
    "    return odeint(Schrodinger_RHS, vec_0, x_range, args=(E,))\n",
    "\n",
    "\n",
    "def generateur_cadre(func, val_0, D=-0.1, tol_rel=0.1, max_iter=20):\n",
    "    \"\"\"\n",
    "    \"\"\"\n",
    "    f_0 = func(val_0) # calcul de la valeur initiale de la fonction\n",
    "    i = 0\n",
    "\n",
    "    while i < max_iter:\n",
    "        i += 1\n",
    "        val_1 = val_0 + i*D\n",
    "        f_1 = func(val_1)\n",
    "\n",
    "        if np.isclose(-f_0, f_1, rtol=tol_rel):\n",
    "            return (val_0, val_1)\n",
    "\n",
    "    return None\n",
    "\n",
    "\n",
    "def trouver_premiers_cadres(func, val_0,  N, D=-0.01, tol_rel=0.1, max_iter=20, val_max=10):\n",
    "    \"\"\"PUT IN FAILSAFES\"\"\"\n",
    "    liste_cadres = []\n",
    "\n",
    "    while val_0 < val_max and len(liste_cadres) < 6 :\n",
    "        cadre = generateur_cadre(func, val_0, D, tol_rel, max_iter)\n",
    "\n",
    "        if cadre is not None:\n",
    "            liste_cadres.append(cadre)\n",
    "\n",
    "        val_0 += np.abs(D)*max_iter\n",
    "        print(val_0)\n",
    "\n",
    "    return liste_cadres\n",
    "\n",
    "\n",
    "def trouver_premieres_racines(func, val_0,  N, D=-0.01, tol_rel=0.1, max_iter=20, val_max=10):\n",
    "    racines = []\n",
    "    cadres = trouver_premiers_cadres(func, val_0,  N, D=-0.01, tol_rel=0.1, max_iter=20, val_max=10)\n",
    "\n",
    "    for i in range(len(cadres)):\n",
    "        racines.append(brentq(func, *cadres[i]))\n",
    "\n",
    "    return racines\n",
    "    \n",
    "    "
   ]
  },
  {
   "cell_type": "code",
   "execution_count": null,
   "metadata": {},
   "outputs": [],
   "source": [
    "calcul_Schrodinger([0, 0.001], np.linspace(-5, 5, 200), 0.5)"
   ]
  },
  {
   "cell_type": "code",
   "execution_count": null,
   "metadata": {},
   "outputs": [],
   "source": [
    "np.isclose(0.1, 0.2, rtol=0.1)"
   ]
  },
  {
   "cell_type": "code",
   "execution_count": null,
   "metadata": {},
   "outputs": [],
   "source": [
    "Schro_fn_E = lambda E : calcul_Schrodinger([0,0.001], np.arange(-5,5), E)[-1,0]\n",
    "generateur_cadre(Schro_fn_E, 0.6, D=-0.01, tol_rel=0.1, max_iter=100)"
   ]
  },
  {
   "cell_type": "code",
   "execution_count": null,
   "metadata": {},
   "outputs": [],
   "source": [
    "Schro_fn_E = lambda E : calcul_Schrodinger([0,0.001], np.arange(-5,5), E)[-1,0]\n",
    "E_range = np.linspace(3,10,200)\n",
    "BC = np.empty_like(E_range)\n",
    "\n",
    "for i in range(len(E_range)):\n",
    "    BC[i] = Schro_fn_E(E_range[i])\n",
    "\n",
    "plt.plot(E_range, np.sign(BC))"
   ]
  },
  {
   "cell_type": "code",
   "execution_count": null,
   "metadata": {},
   "outputs": [],
   "source": [
    "racines = trouver_premieres_racines(Schro_fn_E, 0.4, 6)"
   ]
  },
  {
   "cell_type": "code",
   "execution_count": null,
   "metadata": {},
   "outputs": [],
   "source": [
    "x_range = np.linspace(-5,5,200)\n",
    "\n",
    "q=0\n",
    "\n",
    "plt.plot(x_range, calcul_Schrodinger([0,0.001], x_range, 0.5)[:,0]+0.5)\n",
    "calcul_Schrodinger([0,0.001], x_range, 0.5)[:,0]"
   ]
  },
  {
   "cell_type": "code",
   "execution_count": null,
   "metadata": {},
   "outputs": [],
   "source": []
  }
 ],
 "metadata": {
  "kernelspec": {
   "display_name": "base",
   "language": "python",
   "name": "python3"
  },
  "language_info": {
   "codemirror_mode": {
    "name": "ipython",
    "version": 3
   },
   "file_extension": ".py",
   "mimetype": "text/x-python",
   "name": "python",
   "nbconvert_exporter": "python",
   "pygments_lexer": "ipython3",
   "version": "3.9.13"
  },
  "orig_nbformat": 4,
  "vscode": {
   "interpreter": {
    "hash": "d83c2c4acc6798d77f2d508a6925927a980aed8f1b879892c5701a8ab2ff850e"
   }
  }
 },
 "nbformat": 4,
 "nbformat_minor": 2
}
