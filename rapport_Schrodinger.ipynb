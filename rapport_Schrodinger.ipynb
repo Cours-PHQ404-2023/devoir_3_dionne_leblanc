{
 "cells": [
  {
   "attachments": {},
   "cell_type": "markdown",
   "metadata": {},
   "source": [
    "<h1 align=\"center\">Devoir #3 : Équation de Schrödinger</h1>\n",
    "<h4 align=\"center\">Théo Dionne et Jérôme Leblanc</h4>\n",
    "<h5 align=\"center\">23 mars 2023</h5>"
   ]
  },
  {
   "cell_type": "code",
   "execution_count": null,
   "metadata": {},
   "outputs": [],
   "source": [
    "import OHQ_wrapper as OHQw # Implémentation MT + MEF ainsi que fonctions graphiques\n",
    "import matplotlib.pyplot as plt\n",
    "\n",
    "# Paramètres graphiques\n",
    "params = {\n",
    "    \"xtick.top\": True, \n",
    "    \"ytick.right\": True, \n",
    "    \"xtick.direction\": \"in\", \n",
    "    \"ytick.direction\": \"in\", \n",
    "    \"figure.dpi\": 200\n",
    "    }\n",
    "plt.rcParams.update(params)"
   ]
  },
  {
   "attachments": {},
   "cell_type": "markdown",
   "metadata": {},
   "source": [
    "# Méthode du tir (MT)\n",
    "\n",
    "D'abord, on cherche à résoudre l'équation de Schrödinger avec la méthode du tir. Le hamiltonien est de la forme d'un oscillateur harmonique, soit:\n",
    "$$\n",
    "    {\\psi}'' = (x^2-2E)\\psi\n",
    "$$\n",
    "Comme à l'habitude, pour résoudre cette équation du second ordre, on s'intéresse à un système *réduit* avec le changement de variables typique $\\xi \\equiv \\psi'$:\n",
    "$$\n",
    "    \\begin{bmatrix}{\\psi}'\\\\{\\xi}'\\end{bmatrix} = \\begin{bmatrix}\\xi\\\\(x^2-2E)\\psi\\end{bmatrix}\n",
    "$$\n",
    "Maintenant, on fixe $\\psi(-L)=0$ et ${\\psi}'(-L) = 0.001$ pour ensuite trouver par itération les valeurs de $E$ telles que $\\psi(L|E)=0$.\n",
    "\n",
    "N.B.: Pour le cadrage des racines via l'algorithme proposé, il est important d'essayer le cadrage dans les deux sens ($x_1$ qui augmente ou qui diminue), car il n'y a aucune garantie sur les valeurs d'une fonction de part et d'autre d'une racine. En fait, la condition $f(x_1)=-f(x_0)$ peut être problématique pour cette raison. Par expérience, reculer l'intervalle semble mieux garantir des cadres dans ce problème."
   ]
  },
  {
   "cell_type": "code",
   "execution_count": null,
   "metadata": {},
   "outputs": [],
   "source": [
    "sol_mt = OHQw.solutions_mt(5, 200, 6) # Calcul des 6 premières sols avec la MT\n",
    "\n",
    "OHQw.faire_graphique(sol_mt, 5, 5)"
   ]
  },
  {
   "attachments": {},
   "cell_type": "markdown",
   "metadata": {},
   "source": [
    "# Méthode des éléments finis (MEF)\n",
    "\n",
    "La méthode des éléments finis consiste essentiellement à ramener une équation différentielle à un système d'équations linéaires diagonalisable en supposant que les fonctions propres sont approximativement leur projection sur la base des *fonctions tente*. Pour ce faire, on ramène l'équation différentielle sous la forme :\n",
    "$$\n",
    "    \\frac{1}{2}(x^2 - \\partial_x^2)\\psi = E\\psi\n",
    "$$\n",
    "En introduisant sa représentation dans la base des fonctions tente $\\left\\{\\ket{u_i}\\right\\}$, on peut écrire l'équation sous la forme:\n",
    "$$\n",
    "    \\mathrm{\\mathbf{L}}^C\\ket{\\psi}=E\\mathrm{\\mathbf{M}}\\ket{\\psi}\n",
    "$$\n",
    "où $\\mathrm{\\mathbf{L}}^C$ est la représentation de $(x^2 - \\partial_x^2)/2$ et $\\mathrm{\\mathbf{M}}$ est la *matrice de masse*. Les énergies (valeurs propres) et les états (vecteurs propres) sont trouvés via la résolution de cette équation aux valeurs propres généralisées."
   ]
  },
  {
   "cell_type": "code",
   "execution_count": null,
   "metadata": {},
   "outputs": [],
   "source": [
    "sol_mef = OHQw.solutions_mef(6, 500, 6) # Calcul des 6 premières sols avec la MEF\n",
    "\n",
    "OHQw.faire_graphique(sol_mef, 5, 5)"
   ]
  },
  {
   "attachments": {},
   "cell_type": "markdown",
   "metadata": {},
   "source": [
    "## Conclusion\n",
    "\n",
    "En résumé, on observe que les deux méthodes produisent des résultats très semblables dans des délais comparables, et ce, malgré le fait que les méthodes de résolution sont très différentes. De plus, les graphiques produits et les énergies calculées sont équivalentes aux figures dans l'énoncé du problème.\n",
    "\n",
    "Par contre, une différence observée est la précision des énergies calculées. En fait, la méthode des éléments finis admet des énergies légèrement moins précises. En fait, les énergies de ce genre d'hamiltonien sont connues analytiquement: $E_n = n+\\frac{1}{2}$."
   ]
  },
  {
   "cell_type": "markdown",
   "metadata": {},
   "source": []
  }
 ],
 "metadata": {
  "kernelspec": {
   "display_name": "base",
   "language": "python",
   "name": "python3"
  },
  "language_info": {
   "codemirror_mode": {
    "name": "ipython",
    "version": 3
   },
   "file_extension": ".py",
   "mimetype": "text/x-python",
   "name": "python",
   "nbconvert_exporter": "python",
   "pygments_lexer": "ipython3",
   "version": "3.9.13 | packaged by conda-forge | (main, May 27 2022, 16:56:21) \n[GCC 10.3.0]"
  },
  "orig_nbformat": 4,
  "vscode": {
   "interpreter": {
    "hash": "d83c2c4acc6798d77f2d508a6925927a980aed8f1b879892c5701a8ab2ff850e"
   }
  }
 },
 "nbformat": 4,
 "nbformat_minor": 2
}
