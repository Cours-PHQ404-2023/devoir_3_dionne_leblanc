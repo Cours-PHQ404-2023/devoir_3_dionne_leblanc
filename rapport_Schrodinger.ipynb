{
 "cells": [
  {
   "attachments": {},
   "cell_type": "markdown",
   "metadata": {},
   "source": [
    "<h1 align=\"center\">Devoir #3</h1>\n",
    "<h4 align=\"center\">Théo Dionne et Jérôme Leblanc</h4>\n",
    "<h5 align=\"center\">F I I I I L L L L    O U T T T</h5>"
   ]
  },
  {
   "attachments": {},
   "cell_type": "markdown",
   "metadata": {},
   "source": [
    "## To-do\n",
    "- Faire les commentaires pour la méthode du tir\n",
    "- Implémenter la MEF"
   ]
  },
  {
   "cell_type": "code",
   "execution_count": null,
   "metadata": {},
   "outputs": [],
   "source": [
    "import numpy as np\n",
    "from scipy.optimize import brentq\n",
    "from scipy.integrate import odeint\n",
    "\n",
    "import matplotlib.pyplot as plt\n",
    "import methode_tir as mt\n",
    "\n",
    "params = {\n",
    "    \"xtick.top\": True, \n",
    "    \"ytick.right\": True, \n",
    "    \"xtick.direction\": \"in\", \n",
    "    \"ytick.direction\": \"in\", \n",
    "    \"figure.dpi\": 200\n",
    "    }\n",
    "plt.rcParams.update(params)"
   ]
  },
  {
   "attachments": {},
   "cell_type": "markdown",
   "metadata": {},
   "source": [
    "# Méthode du tir\n",
    "\n",
    "D'abord, on cherche à résoudre l'équation de Schrödinger avec la méthode du tir. Le hamiltonien est de la forme d'un oscillateur harmonique, soit:\n",
    "$$\n",
    "    {\\psi}'' = (x^2-2E)\\psi\n",
    "$$\n",
    "Comme à l'habitude, pour résoudre cette équation du second ordre, on s'intéresse à un système *réduit* avec le changement de variables typique $\\xi \\equiv \\psi'$:\n",
    "$$\n",
    "    \\begin{bmatrix}{\\psi}'\\\\{\\xi}'\\end{bmatrix} = \\begin{bmatrix}\\xi\\\\(x^2-2E)\\psi\\end{bmatrix}\n",
    "$$\n",
    "Maintenant, on fixe $\\psi(-L)=0$ et ${\\psi}'(-L) = 0.001$ pour ensuite trouver les valeurs de $E$ tel que $\\psi(L|E)=0$ "
   ]
  },
  {
   "cell_type": "code",
   "execution_count": null,
   "metadata": {},
   "outputs": [],
   "source": [
    "x_range = np.linspace(-5,5,300)\n",
    "Schro_fn_E = lambda E : mt.calcul_Schrodinger([0,0.001], x_range, E)[-1,0]\n",
    "racines = mt.trouver_premieres_racines(Schro_fn_E, 0.4, 6)\n",
    "\n",
    "for i in range(len(racines)):\n",
    "    plt.plot(x_range, 5*mt.normaliseur(mt.calcul_Schrodinger([0,0.001], x_range, racines[i])[:,0])+racines[i])\n"
   ]
  },
  {
   "attachments": {},
   "cell_type": "markdown",
   "metadata": {},
   "source": [
    "# Méthode des éléments finis\n",
    "\n",
    "La méthode des éléments finis consiste essentiellement à ramener une équation différentielle à un système d'équations linéaires diagonalisable en supposant que les fonctions propres sont approximativement leur projection sur la base des *fonctions tente*. Pour ce faire, on ramène l'équation différentielle sous la forme :\n",
    "$$\n",
    "    \\frac{1}{2}(x^2 - \\partial_x^2)\\psi = E\\psi\n",
    "$$\n",
    "En introduisant sa représentation dans la base des fonctions tente $\\left\\{\\ket{u_i}\\right\\}$, on peut écrire l'équation sous la forme:\n",
    "$$\n",
    "    \\left(L^C - E\\right)\\ket{\\psi}=0\n",
    "$$\n",
    "Les énergies (valeurs propres) et les états (vecteurs propres) sont trouvés via une simple diagonalisation."
   ]
  },
  {
   "cell_type": "markdown",
   "metadata": {},
   "source": []
  }
 ],
 "metadata": {
  "kernelspec": {
   "display_name": "base",
   "language": "python",
   "name": "python3"
  },
  "language_info": {
   "codemirror_mode": {
    "name": "ipython",
    "version": 3
   },
   "file_extension": ".py",
   "mimetype": "text/x-python",
   "name": "python",
   "nbconvert_exporter": "python",
   "pygments_lexer": "ipython3",
   "version": "3.9.13"
  },
  "orig_nbformat": 4,
  "vscode": {
   "interpreter": {
    "hash": "d83c2c4acc6798d77f2d508a6925927a980aed8f1b879892c5701a8ab2ff850e"
   }
  }
 },
 "nbformat": 4,
 "nbformat_minor": 2
}
